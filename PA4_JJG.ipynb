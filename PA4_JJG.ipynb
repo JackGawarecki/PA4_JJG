{
 "cells": [
  {
   "cell_type": "markdown",
   "id": "2a111d7b",
   "metadata": {},
   "source": [
    "# Programming Assignment 4\n",
    "## Jackson Gawarecki\n",
    "### Version 1\n",
    "#### CS150 Fall Semester"
   ]
  },
  {
   "cell_type": "markdown",
   "id": "a4bba730",
   "metadata": {},
   "source": [
    "# 1.A\n",
    "**append()** -allows us to add a single element to the end of the list."
   ]
  },
  {
   "cell_type": "code",
   "execution_count": 6,
   "id": "9378c556",
   "metadata": {},
   "outputs": [
    {
     "data": {
      "text/plain": [
       "[12, 41, 213, 91, 32, 76, 86]"
      ]
     },
     "execution_count": 6,
     "metadata": {},
     "output_type": "execute_result"
    }
   ],
   "source": [
    "numbers=[12,41,213,91,32,76]\n",
    "numbers.append(86)\n",
    "numbers"
   ]
  },
  {
   "cell_type": "markdown",
   "id": "d850cc79",
   "metadata": {},
   "source": [
    "# 2.A\n",
    "**extend**-allows us to add several elements to the end of a list (in the form of a list)"
   ]
  },
  {
   "cell_type": "code",
   "execution_count": 7,
   "id": "1cccd8b4",
   "metadata": {},
   "outputs": [
    {
     "data": {
      "text/plain": [
       "[123, 54, 12, 312, 1, 2, 3]"
      ]
     },
     "execution_count": 7,
     "metadata": {},
     "output_type": "execute_result"
    }
   ],
   "source": [
    "extendexample= [123,54,12,312]\n",
    "extendexample.extend([1,2,3])\n",
    "extendexample"
   ]
  },
  {
   "cell_type": "markdown",
   "id": "5b4da062",
   "metadata": {},
   "source": [
    "# 3.A\n",
    "**insert**- allows us to insert elements into a list at any specified location"
   ]
  },
  {
   "cell_type": "code",
   "execution_count": 8,
   "id": "5e8bcbc5",
   "metadata": {},
   "outputs": [
    {
     "data": {
      "text/plain": [
       "[1, 2, 99, 3, 4, 5]"
      ]
     },
     "execution_count": 8,
     "metadata": {},
     "output_type": "execute_result"
    }
   ],
   "source": [
    "insertexample= [1,2,3,4,5]\n",
    "insertexample.insert(2, 99)\n",
    "insertexample"
   ]
  },
  {
   "cell_type": "markdown",
   "id": "fd42165b",
   "metadata": {},
   "source": [
    "# 4.A\n",
    "**remove**- remove an element from the list where it exists for the first time"
   ]
  },
  {
   "cell_type": "code",
   "execution_count": 9,
   "id": "7457b545",
   "metadata": {},
   "outputs": [
    {
     "data": {
      "text/plain": [
       "[1, 2, 4, 3, 5, 6]"
      ]
     },
     "execution_count": 9,
     "metadata": {},
     "output_type": "execute_result"
    }
   ],
   "source": [
    "removeexample=[1,2,3,4,3,5,6]\n",
    "removeexample.remove(3)\n",
    "removeexample"
   ]
  },
  {
   "cell_type": "markdown",
   "id": "28065fef",
   "metadata": {},
   "source": [
    "# 5.A\n",
    "**count()**- returns how many times a specified element appears in a list"
   ]
  },
  {
   "cell_type": "code",
   "execution_count": 11,
   "id": "1d449e07",
   "metadata": {},
   "outputs": [
    {
     "data": {
      "text/plain": [
       "4"
      ]
     },
     "execution_count": 11,
     "metadata": {},
     "output_type": "execute_result"
    }
   ],
   "source": [
    "countexample=[1,2,3,4,1,2,3,3,3]\n",
    "countexample.count(3)"
   ]
  },
  {
   "cell_type": "markdown",
   "id": "efd89fc2",
   "metadata": {},
   "source": [
    "# 6.A\n",
    "**index()**- returns the position of the number or message in a list"
   ]
  },
  {
   "cell_type": "code",
   "execution_count": 12,
   "id": "8d296126",
   "metadata": {},
   "outputs": [
    {
     "data": {
      "text/plain": [
       "1"
      ]
     },
     "execution_count": 12,
     "metadata": {},
     "output_type": "execute_result"
    }
   ],
   "source": [
    "indexexample=[31,312,415,13]\n",
    "indexexample.index(312)"
   ]
  },
  {
   "cell_type": "markdown",
   "id": "e4025cee",
   "metadata": {},
   "source": [
    "# 7.A\n",
    "**pop()**- removes the element at the specified positon "
   ]
  },
  {
   "cell_type": "code",
   "execution_count": 13,
   "id": "74465862",
   "metadata": {},
   "outputs": [
    {
     "data": {
      "text/plain": [
       "['pos0', 'pos2']"
      ]
     },
     "execution_count": 13,
     "metadata": {},
     "output_type": "execute_result"
    }
   ],
   "source": [
    "popexample=[\"pos0\",\"pos1\",\"pos2\"]\n",
    "popexample.pop(1)\n",
    "popexample"
   ]
  },
  {
   "cell_type": "markdown",
   "id": "328fdfc5",
   "metadata": {},
   "source": [
    "# 8.A\n",
    "**sorted()**- returns a sorted list of specified iterable object"
   ]
  },
  {
   "cell_type": "code",
   "execution_count": 14,
   "id": "cb98eb65",
   "metadata": {},
   "outputs": [
    {
     "data": {
      "text/plain": [
       "[1, 2, 3, 4, 5]"
      ]
     },
     "execution_count": 14,
     "metadata": {},
     "output_type": "execute_result"
    }
   ],
   "source": [
    "sortedexample=[4,1,3,2,5]\n",
    "sorted(sortedexample)"
   ]
  },
  {
   "cell_type": "markdown",
   "id": "52ec4e68",
   "metadata": {},
   "source": [
    "# 9.A\n",
    "**copy()**- returns a copy of a list that is independent of the original list and can be changed without changing the original"
   ]
  },
  {
   "cell_type": "code",
   "execution_count": 16,
   "id": "40f69e61",
   "metadata": {},
   "outputs": [
    {
     "name": "stdout",
     "output_type": "stream",
     "text": [
      "[87, 84, 63, 15]\n",
      "[87, 84, 63, 15, 1]\n",
      "[87, 84, 63, 15]\n"
     ]
    }
   ],
   "source": [
    "copyexample=[87,84,63,15]\n",
    "c2=copyexample.copy()\n",
    "print(c2)\n",
    "c2.append(1)\n",
    "print(c2)\n",
    "print(copyexample)"
   ]
  },
  {
   "cell_type": "markdown",
   "id": "5755aed6",
   "metadata": {},
   "source": [
    "# 10.A\n",
    "**clear()**- removes all elements from a list leaving an empty list"
   ]
  },
  {
   "cell_type": "code",
   "execution_count": 17,
   "id": "5c8b61eb",
   "metadata": {},
   "outputs": [
    {
     "data": {
      "text/plain": [
       "[]"
      ]
     },
     "execution_count": 17,
     "metadata": {},
     "output_type": "execute_result"
    }
   ],
   "source": [
    "clearexample=[2,4,6,2,57]\n",
    "clearexample.clear()\n",
    "clearexample"
   ]
  },
  {
   "cell_type": "markdown",
   "id": "fdd3fe69",
   "metadata": {},
   "source": [
    "# 11.A\n",
    "**any()**- returns true if any element in the list is true"
   ]
  },
  {
   "cell_type": "code",
   "execution_count": 18,
   "id": "66fade5a",
   "metadata": {},
   "outputs": [
    {
     "data": {
      "text/plain": [
       "True"
      ]
     },
     "execution_count": 18,
     "metadata": {},
     "output_type": "execute_result"
    }
   ],
   "source": [
    "list1=[False, True, False, False]\n",
    "any(list1)"
   ]
  },
  {
   "cell_type": "markdown",
   "id": "bc9efacb",
   "metadata": {},
   "source": [
    "# 12.A\n",
    "**filter()**- forms a new list that contains only elements that satisfy a certain condition"
   ]
  },
  {
   "cell_type": "code",
   "execution_count": 19,
   "id": "191e7fa8",
   "metadata": {},
   "outputs": [
    {
     "name": "stdout",
     "output_type": "stream",
     "text": [
      "[6, 5, 5, 3, 3, 7, 3, 1, 1, 3]\n"
     ]
    },
    {
     "data": {
      "text/plain": [
       "[3, 3, 3, 1, 1, 3]"
      ]
     },
     "execution_count": 19,
     "metadata": {},
     "output_type": "execute_result"
    }
   ],
   "source": [
    "def less_five(x):\n",
    "    if x<5:\n",
    "        return x\n",
    "import random\n",
    "numbers2= [random.randrange(1,11) for i in range(10)]\n",
    "print(numbers2)\n",
    "list(filter(less_five,numbers2))"
   ]
  },
  {
   "cell_type": "markdown",
   "id": "120d0021",
   "metadata": {},
   "source": [
    "# 13.A\n",
    "**list()**- returns a list"
   ]
  },
  {
   "cell_type": "code",
   "execution_count": 21,
   "id": "f2868ffb",
   "metadata": {},
   "outputs": [
    {
     "name": "stdout",
     "output_type": "stream",
     "text": [
      "<class 'str'>\n",
      "<class 'list'>\n"
     ]
    }
   ],
   "source": [
    "words= \"Jackson\"\n",
    "print(type(words))\n",
    "words_list=list(words)\n",
    "print(type(words_list))"
   ]
  },
  {
   "cell_type": "markdown",
   "id": "1517280e",
   "metadata": {},
   "source": [
    "# 14.A\n",
    "**map()**- allows you to process and transform all the items in a iterable without using an explicit for loop. "
   ]
  },
  {
   "cell_type": "code",
   "execution_count": 23,
   "id": "bd655552",
   "metadata": {},
   "outputs": [
    {
     "name": "stdout",
     "output_type": "stream",
     "text": [
      "[6, 9, 2, 6, 8, 4, 7, 3, 9, 4]\n"
     ]
    },
    {
     "data": {
      "text/plain": [
       "[None, None, 2, None, None, 4, None, 3, None, 4]"
      ]
     },
     "execution_count": 23,
     "metadata": {},
     "output_type": "execute_result"
    }
   ],
   "source": [
    "def less_five(x):\n",
    "    if x<5:\n",
    "        return x\n",
    "import random          #using the same function as filter()\n",
    "numbers3= [random.randrange(1,11) for i in range(10)]\n",
    "print(numbers3)\n",
    "list(map(less_five, numbers3))"
   ]
  },
  {
   "cell_type": "markdown",
   "id": "5a6b6036",
   "metadata": {},
   "source": [
    "# 1.B\n",
    "**cmp()**- compares two integers and returns -1 if a<b, 0 if a=b, or 1 if a>b"
   ]
  },
  {
   "cell_type": "markdown",
   "id": "01839e5a",
   "metadata": {},
   "source": [
    "a=2\n",
    "b=5\n",
    "print(cmp(a, b))    #answer should be -1"
   ]
  },
  {
   "cell_type": "markdown",
   "id": "db735f85",
   "metadata": {},
   "source": [
    "# 2.B\n",
    "**len()**- return the number of items in  list"
   ]
  },
  {
   "cell_type": "code",
   "execution_count": 33,
   "id": "e286a94c",
   "metadata": {},
   "outputs": [
    {
     "data": {
      "text/plain": [
       "8"
      ]
     },
     "execution_count": 33,
     "metadata": {},
     "output_type": "execute_result"
    }
   ],
   "source": [
    "lenexample=(12,132,5,234,234,76,34,23)\n",
    "len(lenexample)"
   ]
  },
  {
   "cell_type": "markdown",
   "id": "a4d478ce",
   "metadata": {},
   "source": [
    "# 3.B\n",
    "**max()**- returns the largest number"
   ]
  },
  {
   "cell_type": "code",
   "execution_count": 34,
   "id": "d0abb459",
   "metadata": {},
   "outputs": [
    {
     "data": {
      "text/plain": [
       "87"
      ]
     },
     "execution_count": 34,
     "metadata": {},
     "output_type": "execute_result"
    }
   ],
   "source": [
    "maxexample=(1,2,3,4,87,9)\n",
    "max(maxexample)"
   ]
  },
  {
   "cell_type": "markdown",
   "id": "61c72879",
   "metadata": {},
   "source": [
    "# 4.B\n",
    "**tuple(seq)**- converts a sequence list of items into tuples"
   ]
  },
  {
   "cell_type": "code",
   "execution_count": 37,
   "id": "67a25b56",
   "metadata": {},
   "outputs": [
    {
     "data": {
      "text/plain": [
       "('Jack', 'student', 'athlete')"
      ]
     },
     "execution_count": 37,
     "metadata": {},
     "output_type": "execute_result"
    }
   ],
   "source": [
    "list4= ['Jack','student','athlete']\n",
    "tuple1=tuple(list4)\n",
    "tuple1"
   ]
  },
  {
   "cell_type": "code",
   "execution_count": null,
   "id": "f0718371",
   "metadata": {},
   "outputs": [],
   "source": []
  }
 ],
 "metadata": {
  "kernelspec": {
   "display_name": "Python 3",
   "language": "python",
   "name": "python3"
  },
  "language_info": {
   "codemirror_mode": {
    "name": "ipython",
    "version": 3
   },
   "file_extension": ".py",
   "mimetype": "text/x-python",
   "name": "python",
   "nbconvert_exporter": "python",
   "pygments_lexer": "ipython3",
   "version": "3.8.8"
  }
 },
 "nbformat": 4,
 "nbformat_minor": 5
}
